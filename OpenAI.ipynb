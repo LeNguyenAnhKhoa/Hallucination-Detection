{
 "cells": [
  {
   "cell_type": "code",
   "execution_count": 1,
   "metadata": {
    "colab": {
     "base_uri": "https://localhost:8080/"
    },
    "executionInfo": {
     "elapsed": 9189,
     "status": "ok",
     "timestamp": 1747897752513,
     "user": {
      "displayName": "Khoa Lê",
      "userId": "17240903858026128305"
     },
     "user_tz": -420
    },
    "id": "a51K_Yy8EdAh",
    "outputId": "efdc8be3-6ea2-4e89-e7d7-c23d66c80dee"
   },
   "outputs": [
    {
     "name": "stdout",
     "output_type": "stream",
     "text": [
      "Requirement already satisfied: openai in /usr/local/lib/python3.11/dist-packages (1.78.1)\n",
      "Requirement already satisfied: anyio<5,>=3.5.0 in /usr/local/lib/python3.11/dist-packages (from openai) (4.9.0)\n",
      "Requirement already satisfied: distro<2,>=1.7.0 in /usr/local/lib/python3.11/dist-packages (from openai) (1.9.0)\n",
      "Requirement already satisfied: httpx<1,>=0.23.0 in /usr/local/lib/python3.11/dist-packages (from openai) (0.28.1)\n",
      "Requirement already satisfied: jiter<1,>=0.4.0 in /usr/local/lib/python3.11/dist-packages (from openai) (0.9.0)\n",
      "Requirement already satisfied: pydantic<3,>=1.9.0 in /usr/local/lib/python3.11/dist-packages (from openai) (2.11.4)\n",
      "Requirement already satisfied: sniffio in /usr/local/lib/python3.11/dist-packages (from openai) (1.3.1)\n",
      "Requirement already satisfied: tqdm>4 in /usr/local/lib/python3.11/dist-packages (from openai) (4.67.1)\n",
      "Requirement already satisfied: typing-extensions<5,>=4.11 in /usr/local/lib/python3.11/dist-packages (from openai) (4.13.2)\n",
      "Requirement already satisfied: idna>=2.8 in /usr/local/lib/python3.11/dist-packages (from anyio<5,>=3.5.0->openai) (3.10)\n",
      "Requirement already satisfied: certifi in /usr/local/lib/python3.11/dist-packages (from httpx<1,>=0.23.0->openai) (2025.4.26)\n",
      "Requirement already satisfied: httpcore==1.* in /usr/local/lib/python3.11/dist-packages (from httpx<1,>=0.23.0->openai) (1.0.9)\n",
      "Requirement already satisfied: h11>=0.16 in /usr/local/lib/python3.11/dist-packages (from httpcore==1.*->httpx<1,>=0.23.0->openai) (0.16.0)\n",
      "Requirement already satisfied: annotated-types>=0.6.0 in /usr/local/lib/python3.11/dist-packages (from pydantic<3,>=1.9.0->openai) (0.7.0)\n",
      "Requirement already satisfied: pydantic-core==2.33.2 in /usr/local/lib/python3.11/dist-packages (from pydantic<3,>=1.9.0->openai) (2.33.2)\n",
      "Requirement already satisfied: typing-inspection>=0.4.0 in /usr/local/lib/python3.11/dist-packages (from pydantic<3,>=1.9.0->openai) (0.4.0)\n"
     ]
    }
   ],
   "source": [
    "!pip install openai"
   ]
  },
  {
   "cell_type": "code",
   "execution_count": null,
   "metadata": {
    "executionInfo": {
     "elapsed": 11,
     "status": "ok",
     "timestamp": 1747898236936,
     "user": {
      "displayName": "Khoa Lê",
      "userId": "17240903858026128305"
     },
     "user_tz": -420
    },
    "id": "VgUSQttTqCUt"
   },
   "outputs": [],
   "source": [
    "import argparse\n",
    "from openai import OpenAI\n",
    "import pandas as pd\n",
    "import time\n",
    "from sklearn.metrics import f1_score\n",
    "import re\n",
    "import json\n",
    "import numpy as np\n",
    "import matplotlib.pyplot as plt\n",
    "def get_prediction(claim, reference, model_name):\n",
    "    prompt_prefix = \"\"\"\n",
    "    You are an annotator concerned that the claim may not align with the reference.\n",
    "    Your task is to determine whether the reference entail, contradict, or is unverifiable to the claim.\n",
    "    You will be given two inputs: claim, reference.\n",
    "    A reference entails a claim if the information in the reference directly supports the claim being true and there is no conflicting information. The information logically leads to the claim being correct. A reference contradicts a claim if it provides information that directly disproves or disagrees with any part of the claim. This includes stating different entities, numeric values, or relations compared to the claim. A reference is unverifiable to a claim if it does not provide enough information to determine whether the claim is true or false. This happens if the reference is unrelated, missing key details, or too ambiguous.\n",
    "    Example:\n",
    "    ##\n",
    "    claim: Microstructured Waveguide Biosensors: Applications: Analysis of various beverages like water, tea, coffee, wine, and strong drinks, which suggests they could be used for all types of liquids without limitations [9].\n",
    "    reference: [9]: The microstructured waveguide biosensor is described. The biosensor was tested in experiments for analysis of water, tea, coffee, wine and strong drinks. The biosensor has a high sensitivity to the optical properties of a medium, filling up the waveguide's core. The small size, good integration ability and compatibility for use in industrial settings make such biosensor very promising for various applications, including food industry.\n",
    "    justification: Justification 1: The claim is consistent with the information provided in the reference.\\nJustification 2: Both the reference and the claim discuss the biosensor's application in analyzing various beverages.\n",
    "    answer: Entailment\n",
    "    ##\n",
    "    claim: Fetal and Neonatal Outcomes: Lethal Forms: While some forms of OI are lethal, it is often assumed that all cases with severe skeletal deformities detected via prenatal imaging will lead to therapeutic abortion being recommended [5].\n",
    "    reference: [5]: Osteogenesis imperfecta (OI) is a heterogeneous group of diseases affecting type I collagen and characterized by bone fragility. Lethal forms are rare and are characterized by micromelia associated with limb deformities. We report two cases of prenatally diagnosed lethal OI. Patients underwent ultrasound examination at 17 and 25 weeks of amenorrhoea, supplemented with fetal skeletal CT scanning in one case. Therapeutic abortion was recommended in both cases.\n",
    "    justification: Overstatement of the claim by stating all cases with severe skeletal deformities detected via prenatal imaging will lead to therapeutic abortion as the reference only presented 2 cases.\n",
    "    answer: Contradiction\n",
    "    ##\n",
    "    claim: Specialized Procedures: Esophagectomy and Gastric Resection: These are now minimally invasive procedures for upper gastrointestinal cancers, with endoscopic techniques being more suitable for advanced-stage cancers [5].\n",
    "    reference:  [5]: Despite advances in minimally invasive surgery, esophagectomy, and gastric resection remain morbid procedures for cancers of the upper gastrointestinal tract. Endoscopy offers patients effective screening and treatment of early-stage cancers. Endoscopic mucosal resection (EMR) can effectively remove benign and early malignant lesions. This chapter will focus on the use of EMR in the upper digestive tract.\n",
    "    justification: Justification 1: The claim focused on endoscopic procedure for advanced stage cnacers while the reference focused on endoscopic procedure for early stage cancer.\\nJustification 2: Related: The first part of the claim that there are now minimally invasive procedures for upper gastrointestinal cancers is true, however, the second part which states \"with endoscopic techniques being more suitable for advanced-stage cancers\" is not mentioned in the reference per se.\n",
    "    answer: Unverifiable\n",
    "    ##\n",
    "    Input:\n",
    "\"\"\"\n",
    "\n",
    "    client = OpenAI(api_key=\"\")\n",
    "\n",
    "    full_prompt = f\"{prompt_prefix} \\n claim: {claim} \\n reference: {reference} \\n Your response must include both: \\n justification: Your detailed explanation of your reasoning process \\n answer: Only 'Entailment' or 'Contradiction' or 'Unverifiable'\"\n",
    "    try:\n",
    "        response = client.chat.completions.create(\n",
    "            model=model_name,\n",
    "            messages=[\n",
    "                {\"role\": \"system\", \"content\": \"You are an annotator concerned that the claim may not align with the reference.\"},\n",
    "                {\"role\": \"user\", \"content\": full_prompt}\n",
    "            ],\n",
    "            seed=13\n",
    "        )\n",
    "        return response.choices[0].message.content\n",
    "    except Exception as e:\n",
    "        print(f\"Error: {e}\")\n",
    "        return None\n",
    "\n",
    "def main(output_path, sleep_time, model_name):\n",
    "    df = pd.read_csv('/content/train_1.csv')\n",
    "\n",
    "    predictions = []\n",
    "\n",
    "    valid = {'Entailment', 'Contradiction', 'Unverifiable'}\n",
    "    #valid = {'Opposite meaning','Misrepresentation','Related but unverifiable','Entailment','Entity error','Unrelated and unverifiable','Numeric error', 'Missing information'}\n",
    "    for idx, row in df.iterrows():\n",
    "        claim = row['claim_clean']\n",
    "        reference = row['reference_clean']\n",
    "        prediction = get_prediction(claim, reference, model_name)\n",
    "        '''\n",
    "        if not (pd.isna(prediction) or prediction in valid):\n",
    "            print(f\"Invalid prediction at row {idx}: {prediction!r}.\")\n",
    "            time.sleep(sleep_time)\n",
    "            predictions.append(None)\n",
    "            continue\n",
    "        '''\n",
    "        predictions.append(prediction)\n",
    "\n",
    "        if (idx + 1) % 10 == 0:\n",
    "            print(f\"Processed {idx + 1}...\")\n",
    "\n",
    "        time.sleep(sleep_time)\n",
    "\n",
    "    df['predict'] = predictions\n",
    "\n",
    "    df.to_csv(output_path, index=False)"
   ]
  },
  {
   "cell_type": "code",
   "execution_count": 10,
   "metadata": {
    "colab": {
     "base_uri": "https://localhost:8080/"
    },
    "executionInfo": {
     "elapsed": 1972862,
     "status": "ok",
     "timestamp": 1747900225556,
     "user": {
      "displayName": "Khoa Lê",
      "userId": "17240903858026128305"
     },
     "user_tz": -420
    },
    "id": "nU4C-ca1Uv9P",
    "outputId": "e5d404ee-f1ba-411d-8385-d4452af6ad8d"
   },
   "outputs": [
    {
     "name": "stdout",
     "output_type": "stream",
     "text": [
      "Processed 10...\n",
      "Processed 20...\n",
      "Processed 30...\n",
      "Processed 40...\n",
      "Processed 50...\n",
      "Processed 60...\n",
      "Processed 70...\n",
      "Processed 80...\n",
      "Processed 90...\n",
      "Processed 100...\n",
      "Processed 110...\n",
      "Processed 120...\n",
      "Processed 130...\n",
      "Processed 140...\n",
      "Processed 150...\n",
      "Processed 160...\n",
      "Processed 170...\n",
      "Processed 180...\n",
      "Processed 190...\n",
      "Processed 200...\n",
      "Processed 210...\n",
      "Processed 220...\n",
      "Processed 230...\n",
      "Processed 240...\n",
      "Processed 250...\n",
      "Processed 260...\n",
      "Processed 270...\n",
      "Processed 280...\n",
      "Processed 290...\n",
      "Processed 300...\n"
     ]
    }
   ],
   "source": [
    "main(\"o4-mini.csv\", 0.1, 'o4-mini')"
   ]
  },
  {
   "cell_type": "code",
   "execution_count": 11,
   "metadata": {
    "colab": {
     "base_uri": "https://localhost:8080/"
    },
    "executionInfo": {
     "elapsed": 54,
     "status": "ok",
     "timestamp": 1747900241892,
     "user": {
      "displayName": "Khoa Lê",
      "userId": "17240903858026128305"
     },
     "user_tz": -420
    },
    "id": "FWItwy7v1Vw-",
    "outputId": "2bf1f132-e95b-4744-d817-e23e27869292"
   },
   "outputs": [
    {
     "data": {
      "text/plain": [
       "True"
      ]
     },
     "execution_count": 11,
     "metadata": {},
     "output_type": "execute_result"
    }
   ],
   "source": [
    "labels = ['Contradiction', 'Entailment', 'Unverifiable']\n",
    "df = pd.read_csv('/content/o4-mini.csv')\n",
    "df = df.dropna()\n",
    "# Hàm xử lý từng dòng\n",
    "def extract_label(text):\n",
    "    found = [label for label in labels if label in text]\n",
    "    if len(found) == 1:\n",
    "        return found[0]\n",
    "    else:\n",
    "        return 'MULTI_OR_NONE'  # đánh dấu các mẫu không rõ ràng\n",
    "\n",
    "# Áp dụng hàm\n",
    "df['predict_extracted'] = df['predict'].apply(extract_label)\n",
    "df_ambiguous = df[df['predict_extracted'] == 'MULTI_OR_NONE']\n",
    "len(df_ambiguous) == 0"
   ]
  },
  {
   "cell_type": "code",
   "execution_count": null,
   "metadata": {
    "colab": {
     "base_uri": "https://localhost:8080/"
    },
    "executionInfo": {
     "elapsed": 36,
     "status": "ok",
     "timestamp": 1747796771215,
     "user": {
      "displayName": "Khoa Lê",
      "userId": "17240903858026128305"
     },
     "user_tz": -420
    },
    "id": "qQV6ZQVmSAX0",
    "outputId": "92617871-0a8e-41bb-ade0-a56a170c93f7"
   },
   "outputs": [
    {
     "data": {
      "text/plain": [
       "True"
      ]
     },
     "execution_count": 28,
     "metadata": {},
     "output_type": "execute_result"
    }
   ],
   "source": [
    "df = pd.read_csv('gem2_3.csv')\n",
    "df = df[df['predict'].isin(['Contradiction', 'Entailment', 'Unverifiable'])]\n",
    "df['predict'].unique()"
   ]
  },
  {
   "cell_type": "code",
   "execution_count": null,
   "metadata": {
    "id": "JbTeKL-21c0p"
   },
   "outputs": [],
   "source": [
    "df = pd.read_csv('gem.csv')\n",
    "df = df[df['predict'].isin(['Opposite meaning', 'Misrepresentation', 'Related but unverifiable', 'Entailment', 'Entity error', 'Unrelated and unverifiable', 'Numeric error', 'Missing information'])]\n",
    "df['predict'].unique()"
   ]
  },
  {
   "cell_type": "code",
   "execution_count": 12,
   "metadata": {
    "colab": {
     "base_uri": "https://localhost:8080/"
    },
    "executionInfo": {
     "elapsed": 35,
     "status": "ok",
     "timestamp": 1747900248695,
     "user": {
      "displayName": "Khoa Lê",
      "userId": "17240903858026128305"
     },
     "user_tz": -420
    },
    "id": "BwPsEXNlSHYo",
    "outputId": "b499e0a1-9cfd-412f-d5f2-d831c803aab9"
   },
   "outputs": [
    {
     "name": "stdout",
     "output_type": "stream",
     "text": [
      "Macro F1 Score: 0.5293117267112539\n"
     ]
    }
   ],
   "source": [
    "macro_f1 = f1_score(df['label'], df['predict_extracted'], average='macro')\n",
    "print(\"Macro F1 Score:\", macro_f1)"
   ]
  },
  {
   "cell_type": "code",
   "execution_count": null,
   "metadata": {
    "colab": {
     "base_uri": "https://localhost:8080/",
     "height": 455
    },
    "executionInfo": {
     "elapsed": 782,
     "status": "ok",
     "timestamp": 1747793479355,
     "user": {
      "displayName": "Khoa Lê",
      "userId": "17240903858026128305"
     },
     "user_tz": -420
    },
    "id": "9qbj5ZlKSNkn",
    "outputId": "6a252192-fc3f-4e5e-8037-a7f619a62efa"
   },
   "outputs": [
    {
     "name": "stdout",
     "output_type": "stream",
     "text": [
      "Macro F1-score: 0.5534469715260676\n"
     ]
    },
    {
     "data": {
      "image/png": "[encoded data removed]",
      "text/plain": [
       "<Figure size 1200x600 with 1 Axes>"
      ]
     },
     "metadata": {},
     "output_type": "display_data"
    }
   ],
   "source": [
    "mapping = {\n",
    "    'Entailment': 'Entailment',\n",
    "    'Related but unverifiable': 'Unverifiable',\n",
    "    'Unrelated and unverifiable': 'Unverifiable',\n",
    "    'Opposite meaning': 'Contradiction',\n",
    "    'Missing information': 'Contradiction',\n",
    "    'Entity error': 'Contradiction',\n",
    "    'Misrepresentation': 'Contradiction',\n",
    "    'Numeric error': 'Contradiction'\n",
    "}\n",
    "\n",
    "# Áp dụng mapping vào cột 'predict'\n",
    "df['predict'] = df['predict'].map(mapping)\n",
    "\n",
    "f1 = f1_score(df['label'], df['predict'], average='macro')\n",
    "print(\"Macro F1-score:\", f1)\n",
    "labels = sorted(df['label'].unique())  # đảm bảo sắp xếp để hiển thị gọn\n",
    "correct_counts = []\n",
    "incorrect_counts = []\n",
    "\n",
    "for label in labels:\n",
    "    # Số lần dự đoán đúng cho nhãn này\n",
    "    correct = ((df['label'] == label) & (df['predict'] == label)).sum()\n",
    "    # Số lần dự đoán sai mà thực tế là nhãn này hoặc dự đoán thành nhãn này\n",
    "    incorrect = ((df['label'] == label) & (df['predict'] != label)).sum() + \\\n",
    "                ((df['label'] != label) & (df['predict'] == label)).sum()\n",
    "\n",
    "    correct_counts.append(correct)\n",
    "    incorrect_counts.append(incorrect)\n",
    "\n",
    "x = np.arange(len(labels))  # vị trí của nhãn\n",
    "width = 0.35\n",
    "\n",
    "fig, ax = plt.subplots(figsize=(12, 6))\n",
    "bars1 = ax.bar(x - width/2, correct_counts, width, label='Đúng', color='blue')\n",
    "bars2 = ax.bar(x + width/2, incorrect_counts, width, label='Sai', color='red')\n",
    "\n",
    "ax.set_xlabel('Nhãn')\n",
    "ax.set_ylabel('Số mẫu')\n",
    "ax.set_title(f'Dự đoán đúng/sai theo nhãn (F1 macro = {f1:.2f})')\n",
    "ax.set_xticks(x)\n",
    "ax.set_xticklabels(labels)\n",
    "ax.tick_params(axis='x', labelrotation=45)\n",
    "ax.legend()\n",
    "\n",
    "# 🔢 Ghi số lên cột\n",
    "for bar in bars1:\n",
    "    height = bar.get_height()\n",
    "    ax.annotate(f'{height}',\n",
    "                xy=(bar.get_x() + bar.get_width() / 2, height),\n",
    "                xytext=(0, 3),  # khoảng cách so với đầu cột\n",
    "                textcoords=\"offset points\",\n",
    "                ha='center', va='bottom', fontsize=9)\n",
    "\n",
    "for bar in bars2:\n",
    "    height = bar.get_height()\n",
    "    ax.annotate(f'{height}',\n",
    "                xy=(bar.get_x() + bar.get_width() / 2, height),\n",
    "                xytext=(0, 3),\n",
    "                textcoords=\"offset points\",\n",
    "                ha='center', va='bottom', fontsize=9)\n",
    "\n",
    "plt.tight_layout()\n",
    "plt.savefig(\"ten_file.png\")\n",
    "plt.show()"
   ]
  }
 ],
 "metadata": {
  "colab": {
   "authorship_tag": "ABX9TyPrv+X/TcPXaYxmsCoSV13n",
   "provenance": []
  },
  "kernelspec": {
   "display_name": "Python 3",
   "name": "python3"
  },
  "language_info": {
   "name": "python"
  }
 },
 "nbformat": 4,
 "nbformat_minor": 0
}

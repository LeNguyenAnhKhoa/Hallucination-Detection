{
 "cells": [
  {
   "cell_type": "code",
   "execution_count": null,
   "metadata": {
    "colab": {
     "base_uri": "https://localhost:8080/"
    },
    "executionInfo": {
     "elapsed": 11034,
     "status": "ok",
     "timestamp": 1748677202829,
     "user": {
      "displayName": "Khoa Lê",
      "userId": "17240903858026128305"
     },
     "user_tz": -420
    },
    "id": "a51K_Yy8EdAh",
    "outputId": "589463d1-fabf-495d-c168-d2b39e10ad74"
   },
   "outputs": [
    {
     "name": "stdout",
     "output_type": "stream",
     "text": [
      "Requirement already satisfied: openai in /usr/local/lib/python3.11/dist-packages (1.81.0)\n",
      "Requirement already satisfied: anyio<5,>=3.5.0 in /usr/local/lib/python3.11/dist-packages (from openai) (4.9.0)\n",
      "Requirement already satisfied: distro<2,>=1.7.0 in /usr/local/lib/python3.11/dist-packages (from openai) (1.9.0)\n",
      "Requirement already satisfied: httpx<1,>=0.23.0 in /usr/local/lib/python3.11/dist-packages (from openai) (0.28.1)\n",
      "Requirement already satisfied: jiter<1,>=0.4.0 in /usr/local/lib/python3.11/dist-packages (from openai) (0.10.0)\n",
      "Requirement already satisfied: pydantic<3,>=1.9.0 in /usr/local/lib/python3.11/dist-packages (from openai) (2.11.4)\n",
      "Requirement already satisfied: sniffio in /usr/local/lib/python3.11/dist-packages (from openai) (1.3.1)\n",
      "Requirement already satisfied: tqdm>4 in /usr/local/lib/python3.11/dist-packages (from openai) (4.67.1)\n",
      "Requirement already satisfied: typing-extensions<5,>=4.11 in /usr/local/lib/python3.11/dist-packages (from openai) (4.13.2)\n",
      "Requirement already satisfied: idna>=2.8 in /usr/local/lib/python3.11/dist-packages (from anyio<5,>=3.5.0->openai) (3.10)\n",
      "Requirement already satisfied: certifi in /usr/local/lib/python3.11/dist-packages (from httpx<1,>=0.23.0->openai) (2025.4.26)\n",
      "Requirement already satisfied: httpcore==1.* in /usr/local/lib/python3.11/dist-packages (from httpx<1,>=0.23.0->openai) (1.0.9)\n",
      "Requirement already satisfied: h11>=0.16 in /usr/local/lib/python3.11/dist-packages (from httpcore==1.*->httpx<1,>=0.23.0->openai) (0.16.0)\n",
      "Requirement already satisfied: annotated-types>=0.6.0 in /usr/local/lib/python3.11/dist-packages (from pydantic<3,>=1.9.0->openai) (0.7.0)\n",
      "Requirement already satisfied: pydantic-core==2.33.2 in /usr/local/lib/python3.11/dist-packages (from pydantic<3,>=1.9.0->openai) (2.33.2)\n",
      "Requirement already satisfied: typing-inspection>=0.4.0 in /usr/local/lib/python3.11/dist-packages (from pydantic<3,>=1.9.0->openai) (0.4.1)\n"
     ]
    }
   ],
   "source": [
    "!pip install openai"
   ]
  },
  {
   "cell_type": "code",
   "execution_count": null,
   "metadata": {
    "executionInfo": {
     "elapsed": 1480,
     "status": "ok",
     "timestamp": 1748783303552,
     "user": {
      "displayName": "Khoa Lê",
      "userId": "17240903858026128305"
     },
     "user_tz": -420
    },
    "id": "VgUSQttTqCUt"
   },
   "outputs": [],
   "source": [
    "import argparse\n",
    "from openai import OpenAI\n",
    "import pandas as pd\n",
    "import time\n",
    "\n",
    "def get_prediction(claim, reference, model_name):\n",
    "    prompt_prefix = \"\"\"\n",
    "    You are an annotator concerned that the claim may not align with the reference.\n",
    "    Your task is to determine whether the reference entail, is unrelated and unverifiable, is related but unverifiable, misinterpret, omit critical information, contain a numeric error, contain an opposite meaning, or contain an entity error to the claim.\n",
    "    You will be given two inputs: claim, reference.\n",
    "    Entailment occurs when reference information directly supports a claim's accuracy with no conflicting information. The logical connection between reference and claim is strong enough that the claim's truth follows naturally from the reference content.\n",
    "    Opposite meaning identifies claims that directly contradict references by stating the contrary position. This happens when a claim negates key parts of a reference or substitutes terms with their antonyms, fundamentally reversing the reference's meaning.\n",
    "    Misrepresentation labels claims that present logical fallacies or flawed reasoning relative to references. This includes over-claiming, under-claiming, introducing ambiguity, creating inconsistency, or drawing conclusions that don't logically follow from the reference material.\n",
    "    Related but unverifiable describes claims that connect to references through shared subjects or entities but cannot be verified because the reference lacks specific information to confirm or deny the claim's accuracy.\n",
    "    Entity error identifies claims that incorrectly name entities (people, organizations, places) compared to reference information. Even if other claim elements are accurate, entity misidentification compromises the claim's overall accuracy.\n",
    "    Unrelated and unverifiable applies to claims discussing topics or information entirely absent from references, providing no basis for accuracy assessment.\n",
    "    Numeric error identifies claims presenting incorrect numerical values (quantities, percentages, dates) compared to reference figures.\n",
    "    Missing information flags claims that omit critical reference details, significantly altering the original meaning or intent of the referenced information.\n",
    "    Input:\n",
    "\"\"\"\n",
    "\n",
    "    client = OpenAI(api_key=\"\")\n",
    "\n",
    "    full_prompt = f\"\"\"\n",
    "    {prompt_prefix}\n",
    "    claim: {claim}\n",
    "    reference: {reference}\n",
    "    Give the probabilities rounded to 3 decimal places for each category. The total probability is 1. Answer only output format:\n",
    "    {{\n",
    "        \"Opposite_meaning_probability\": Probability to predict class Opposite meaning (0.0 to 1.0),\n",
    "        \"Misrepresentation_probability\": Probability to predict class Misrepresentation (0.0 to 1.0),\n",
    "        \"Related_but_unverifiable_probability\": Probability to predict class Related but unverifiable (0.0 to 1.0),\n",
    "        \"Entailment_probability\": Probability to predict class Entailment (0.0 to 1.0),\n",
    "        \"Entity_error_probability\": Probability to predict class Entity error (0.0 to 1.0),\n",
    "        \"Unrelated_and_unverifiable_probability\": Probability to predict class Unrelated and unverifiable (0.0 to 1.0),\n",
    "        \"Numeric_error_probability\": Probability to predict class Numeric error (0.0 to 1.0),\n",
    "        \"Missing_information_probability\": Probability to predict class Missing information (0.0 to 1.0)\n",
    "    }}\n",
    "    \"\"\"\n",
    "    try:\n",
    "        response = client.chat.completions.create(\n",
    "            model=model_name,\n",
    "            messages=[\n",
    "                {\"role\": \"system\", \"content\": \"You are an annotator concerned that the claim may not align with the reference.\"},\n",
    "                {\"role\": \"user\", \"content\": full_prompt}\n",
    "            ],\n",
    "            reasoning_effort=\"high\",\n",
    "            seed=13\n",
    "        )\n",
    "        return response.choices[0].message.content\n",
    "    except Exception as e:\n",
    "        print(f\"Error: {e}\")\n",
    "        return None\n",
    "\n",
    "def main(output_path, sleep_time, model_name):\n",
    "    df = pd.read_csv('/content/prompt_0.csv')\n",
    "\n",
    "    predictions = []\n",
    "\n",
    "    for idx, row in df.iterrows():\n",
    "        claim = row['claim_clean']\n",
    "        reference = row['reference_clean']\n",
    "        prediction = get_prediction(claim, reference, model_name)\n",
    "        predictions.append(prediction)\n",
    "\n",
    "        if (idx + 1) % 10 == 0:\n",
    "            print(f\"Processed {idx + 1}...\")\n",
    "\n",
    "        time.sleep(sleep_time)\n",
    "\n",
    "    df['predict'] = predictions\n",
    "\n",
    "    df.to_csv(output_path, index=False)"
   ]
  },
  {
   "cell_type": "code",
   "execution_count": 2,
   "metadata": {
    "colab": {
     "base_uri": "https://localhost:8080/"
    },
    "executionInfo": {
     "elapsed": 4888146,
     "status": "ok",
     "timestamp": 1748788253745,
     "user": {
      "displayName": "Khoa Lê",
      "userId": "17240903858026128305"
     },
     "user_tz": -420
    },
    "id": "nU4C-ca1Uv9P",
    "outputId": "125d1bcd-19f6-4496-b5f8-074d001015fc"
   },
   "outputs": [
    {
     "name": "stdout",
     "output_type": "stream",
     "text": [
      "Processed 10...\n",
      "Processed 20...\n",
      "Processed 30...\n",
      "Processed 40...\n",
      "Processed 50...\n",
      "Processed 60...\n",
      "Processed 70...\n",
      "Processed 80...\n",
      "Processed 90...\n",
      "Processed 100...\n",
      "Processed 110...\n",
      "Processed 120...\n"
     ]
    }
   ],
   "source": [
    "main(\"o3-mini-high-prompt_1.csv\", 0.07, 'o3-mini')"
   ]
  },
  {
   "cell_type": "code",
   "execution_count": null,
   "metadata": {
    "executionInfo": {
     "elapsed": 62,
     "status": "ok",
     "timestamp": 1748773707387,
     "user": {
      "displayName": "Khoa Lê",
      "userId": "17240903858026128305"
     },
     "user_tz": -420
    },
    "id": "RC0s7_St3Gj7"
   },
   "outputs": [],
   "source": [
    "client = OpenAI(api_key=\"\")\n",
    "\n",
    "prompt_prefix = \"\"\"\n",
    "    You are an annotator concerned that the claim may not align with the reference.\n",
    "    Your task is to determine whether the reference entail, is unrelated and unverifiable, is related but unverifiable, misinterpret, omit critical information, contain a numeric error, contain an opposite meaning, or contain an entity error to the claim.\n",
    "    You will be given two inputs: claim, reference.\n",
    "    Entailment occurs when reference information directly supports a claim's accuracy with no conflicting information. The logical connection between reference and claim is strong enough that the claim's truth follows naturally from the reference content.\n",
    "    Opposite meaning identifies claims that directly contradict references by stating the contrary position. This happens when a claim negates key parts of a reference or substitutes terms with their antonyms, fundamentally reversing the reference's meaning.\n",
    "    Misrepresentation labels claims that present logical fallacies or flawed reasoning relative to references. This includes over-claiming, under-claiming, introducing ambiguity, creating inconsistency, or drawing conclusions that don't logically follow from the reference material.\n",
    "    Related but unverifiable describes claims that connect to references through shared subjects or entities but cannot be verified because the reference lacks specific information to confirm or deny the claim's accuracy.\n",
    "    Entity error identifies claims that incorrectly name entities (people, organizations, places) compared to reference information. Even if other claim elements are accurate, entity misidentification compromises the claim's overall accuracy.\n",
    "    Unrelated and unverifiable applies to claims discussing topics or information entirely absent from references, providing no basis for accuracy assessment.\n",
    "    Numeric error identifies claims presenting incorrect numerical values (quantities, percentages, dates) compared to reference figures.\n",
    "    Missing information flags claims that omit critical reference details, significantly altering the original meaning or intent of the referenced information.\n",
    "    Input:\n",
    "    \"\"\"\n",
    "claim = \"Microstructured Waveguide Biosensors: Applications: Analysis of various beverages like water, tea, coffee, wine, and strong drinks, which suggests they could be used for all types of liquids without limitations [9].\"\n",
    "reference = \"[9]: The microstructured waveguide biosensor is described. The biosensor was tested in experiments for analysis of water, tea, coffee, wine and strong drinks. The biosensor has a high sensitivity to the optical properties of a medium, filling up the waveguide's core. The small size, good integration ability and compatibility for use in industrial settings make such biosensor very promising for various applications, including food industry.\"\n",
    "full_prompt = f\"\"\"\n",
    "    {prompt_prefix}\n",
    "    claim: {claim}\n",
    "    reference: {reference}\n",
    "    Give the probabilities rounded to 3 decimal places for each category. The total probability is 1. Answer only output format:\n",
    "    {{\n",
    "        \"Opposite_meaning_probability\": Probability to predict class Opposite meaning (0.0 to 1.0),\n",
    "        \"Misrepresentation_probability\": Probability to predict class Misrepresentation (0.0 to 1.0),\n",
    "        \"Related_but_unverifiable_probability\": Probability to predict class Related but unverifiable (0.0 to 1.0),\n",
    "        \"Entailment_probability\": Probability to predict class Entailment (0.0 to 1.0),\n",
    "        \"Entity_error_probability\": Probability to predict class Entity error (0.0 to 1.0),\n",
    "        \"Unrelated_and_unverifiable_probability\": Probability to predict class Unrelated and unverifiable (0.0 to 1.0),\n",
    "        \"Numeric_error_probability\": Probability to predict class Numeric error (0.0 to 1.0),\n",
    "        \"Missing_information_probability\": Probability to predict class Missing information (0.0 to 1.0)\n",
    "    }}\n",
    "\"\"\""
   ]
  },
  {
   "cell_type": "code",
   "execution_count": 25,
   "metadata": {
    "executionInfo": {
     "elapsed": 33721,
     "status": "ok",
     "timestamp": 1748773746712,
     "user": {
      "displayName": "Khoa Lê",
      "userId": "17240903858026128305"
     },
     "user_tz": -420
    },
    "id": "ADJoP01p3TGV"
   },
   "outputs": [],
   "source": [
    "response = client.chat.completions.create(\n",
    "            model=\"o3-mini\",\n",
    "            messages=[\n",
    "                {\"role\": \"system\", \"content\": \"You are an annotator concerned that the claim may not align with the reference.\"},\n",
    "                {\"role\": \"user\", \"content\": full_prompt}\n",
    "            ],\n",
    "            reasoning_effort=\"high\",\n",
    "            seed=13\n",
    "        )"
   ]
  },
  {
   "cell_type": "code",
   "execution_count": 26,
   "metadata": {
    "colab": {
     "base_uri": "https://localhost:8080/",
     "height": 87
    },
    "executionInfo": {
     "elapsed": 7,
     "status": "ok",
     "timestamp": 1748773750424,
     "user": {
      "displayName": "Khoa Lê",
      "userId": "17240903858026128305"
     },
     "user_tz": -420
    },
    "id": "nasXtstJ9ELr",
    "outputId": "b6adb95f-6771-45a6-fdeb-dd121c8fc7b6"
   },
   "outputs": [
    {
     "data": {
      "application/vnd.google.colaboratory.intrinsic+json": {
       "type": "string"
      },
      "text/plain": [
       "'{\\n    \"Opposite_meaning_probability\": 0.000,\\n    \"Misrepresentation_probability\": 0.800,\\n    \"Related_but_unverifiable_probability\": 0.000,\\n    \"Entailment_probability\": 0.150,\\n    \"Entity_error_probability\": 0.000,\\n    \"Unrelated_and_unverifiable_probability\": 0.000,\\n    \"Numeric_error_probability\": 0.000,\\n    \"Missing_information_probability\": 0.050\\n}'"
      ]
     },
     "execution_count": 26,
     "metadata": {},
     "output_type": "execute_result"
    }
   ],
   "source": [
    "response.choices[0].message.content"
   ]
  }
 ],
 "metadata": {
  "colab": {
   "authorship_tag": "ABX9TyPFG6ph0nZAAtmEoH7Zg3ab",
   "provenance": []
  },
  "kernelspec": {
   "display_name": "Python 3",
   "name": "python3"
  },
  "language_info": {
   "name": "python"
  }
 },
 "nbformat": 4,
 "nbformat_minor": 0
}

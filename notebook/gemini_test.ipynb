{
  "cells": [
    {
      "cell_type": "code",
      "execution_count": null,
      "metadata": {
        "id": "A3W782BVHTpe",
        "colab": {
          "base_uri": "https://localhost:8080/"
        },
        "outputId": "f49b4eae-ac71-45ac-babf-ea5739fce50d"
      },
      "outputs": [
        {
          "output_type": "stream",
          "name": "stdout",
          "text": [
            "\u001b[?25l   \u001b[90m━━━━━━━━━━━━━━━━━━━━━━━━━━━━━━━━━━━━━━━━\u001b[0m \u001b[32m0.0/196.3 kB\u001b[0m \u001b[31m?\u001b[0m eta \u001b[36m-:--:--\u001b[0m\r\u001b[2K   \u001b[90m━━━━━━━━━━━━━━━━━━━━━━━━━━━━━━━━━━━━━━━━\u001b[0m \u001b[32m196.3/196.3 kB\u001b[0m \u001b[31m10.4 MB/s\u001b[0m eta \u001b[36m0:00:00\u001b[0m\n",
            "\u001b[?25h"
          ]
        }
      ],
      "source": [
        "!pip install -q -U google-genai"
      ]
    },
    {
      "cell_type": "code",
      "execution_count": null,
      "metadata": {
        "id": "GEq5M4raIw4V"
      },
      "outputs": [],
      "source": [
        "import argparse\n",
        "from google import genai\n",
        "from google.genai import types\n",
        "import pandas as pd\n",
        "import time\n",
        "from sklearn.metrics import f1_score\n",
        "import re\n",
        "import json\n",
        "import numpy as np\n",
        "import matplotlib.pyplot as plt\n",
        "pd.set_option('display.max_colwidth', None)\n",
        "def get_prediction(claim, reference, model_name):\n",
        "    prompt_prefix = \"\"\"\n",
        "    You are an annotator concerned that the claim may not align with the reference.\n",
        "    Your task is to determine whether the reference entail, contradict, or is unverifiable to the claim.\n",
        "    You will be given two inputs: claim, reference.\n",
        "    A reference entails a claim if the information in the reference directly supports the claim being true and there is no conflicting information. The information logically leads to the claim being correct.\n",
        "    A reference contradicts a claim if it provides information that directly disproves or disagrees with any part of the claim. This includes stating different entities, numeric values, or relations compared to the claim.\n",
        "    A reference is unverifiable to a claim if it does not provide enough information to determine whether the claim is true or false. This happens if the reference is unrelated, missing key details, or too ambiguous.\n",
        "    Example:\n",
        "    ##\n",
        "    claim: Microstructured Waveguide Biosensors: Applications: Analysis of various beverages like water, tea, coffee, wine, and strong drinks, which suggests they could be used for all types of liquids without limitations [9].\n",
        "    reference: [9]: The microstructured waveguide biosensor is described. The biosensor was tested in experiments for analysis of water, tea, coffee, wine and strong drinks. The biosensor has a high sensitivity to the optical properties of a medium, filling up the waveguide's core. The small size, good integration ability and compatibility for use in industrial settings make such biosensor very promising for various applications, including food industry.\n",
        "    justification: Justification 1: The claim is consistent with the information provided in the reference.\\nJustification 2: Both the reference and the claim discuss the biosensor's application in analyzing various beverages.\n",
        "    answer: Entailment\n",
        "    ##\n",
        "    claim: Fetal and Neonatal Outcomes: Lethal Forms: While some forms of OI are lethal, it is often assumed that all cases with severe skeletal deformities detected via prenatal imaging will lead to therapeutic abortion being recommended [5].\n",
        "    reference: [5]: Osteogenesis imperfecta (OI) is a heterogeneous group of diseases affecting type I collagen and characterized by bone fragility. Lethal forms are rare and are characterized by micromelia associated with limb deformities. We report two cases of prenatally diagnosed lethal OI. Patients underwent ultrasound examination at 17 and 25 weeks of amenorrhoea, supplemented with fetal skeletal CT scanning in one case. Therapeutic abortion was recommended in both cases.\n",
        "    justification: Overstatement of the claim by stating all cases with severe skeletal deformities detected via prenatal imaging will lead to therapeutic abortion as the reference only presented 2 cases.\n",
        "    answer: Contradiction\n",
        "    ##\n",
        "    claim: Specialized Procedures: Esophagectomy and Gastric Resection: These are now minimally invasive procedures for upper gastrointestinal cancers, with endoscopic techniques being more suitable for advanced-stage cancers [5].\n",
        "    reference:  [5]: Despite advances in minimally invasive surgery, esophagectomy, and gastric resection remain morbid procedures for cancers of the upper gastrointestinal tract. Endoscopy offers patients effective screening and treatment of early-stage cancers. Endoscopic mucosal resection (EMR) can effectively remove benign and early malignant lesions. This chapter will focus on the use of EMR in the upper digestive tract.\n",
        "    justification: Justification 1: The claim focused on endoscopic procedure for advanced stage cnacers while the reference focused on endoscopic procedure for early stage cancer.\\nJustification 2: Related: The first part of the claim that there are now minimally invasive procedures for upper gastrointestinal cancers is true, however, the second part which states \"with endoscopic techniques being more suitable for advanced-stage cancers\" is not mentioned in the reference per se.\n",
        "    answer: Unverifiable\n",
        "    ##\n",
        "    Input:\n",
        "    \"\"\"\n",
        "\n",
        "    client = genai.Client(api_key=\"\")\n",
        "\n",
        "    config = types.GenerateContentConfig(\n",
        "        temperature=0,\n",
        "        seed = 13\n",
        "    )\n",
        "\n",
        "    full_prompt = f\"\"\"\n",
        "    {prompt_prefix}\n",
        "    claim: {claim}\n",
        "    reference: {reference}\n",
        "    Your response only answer 'Entailment' or 'Contradiction' or 'Unverifiable'\n",
        "    answer:\n",
        "    \"\"\"\n",
        "    try:\n",
        "        response = client.models.generate_content(\n",
        "            model=model_name,\n",
        "            contents=full_prompt,\n",
        "            config=config\n",
        "        )\n",
        "        return response.text.strip()\n",
        "    except Exception as e:\n",
        "        print(f\"Error: {e}\")\n",
        "        return None\n",
        "\n",
        "def main(output_path, sleep_time, model_name):\n",
        "    df = pd.read_csv('/content/df_1.csv')\n",
        "\n",
        "    predictions = []\n",
        "\n",
        "    for idx, row in df.iterrows():\n",
        "        claim = row['claim_clean']\n",
        "        reference = row['reference_clean']\n",
        "        prediction = get_prediction(claim, reference, model_name)\n",
        "        predictions.append(prediction)\n",
        "\n",
        "        if (idx + 1) % 10 == 0:\n",
        "            print(f\"Processed {idx + 1}...\")\n",
        "\n",
        "        time.sleep(sleep_time)\n",
        "\n",
        "    df['predict'] = predictions\n",
        "\n",
        "    df.to_csv(output_path, index=False)"
      ]
    },
    {
      "cell_type": "code",
      "execution_count": null,
      "metadata": {
        "id": "2KLAfNEoWQ0F",
        "colab": {
          "base_uri": "https://localhost:8080/"
        },
        "outputId": "f5dbaa60-754d-4b47-d496-8cc3e5aeb288"
      },
      "outputs": [
        {
          "output_type": "stream",
          "name": "stdout",
          "text": [
            "Processed 10...\n",
            "Processed 20...\n",
            "Processed 30...\n",
            "Processed 40...\n",
            "Processed 50...\n",
            "Processed 60...\n",
            "Processed 70...\n",
            "Processed 80...\n",
            "Processed 90...\n",
            "Processed 100...\n",
            "Processed 110...\n",
            "Processed 120...\n",
            "Processed 130...\n",
            "Processed 140...\n",
            "Processed 150...\n",
            "Processed 160...\n",
            "Processed 170...\n",
            "Processed 180...\n",
            "Processed 190...\n",
            "Processed 200...\n",
            "Error: 'NoneType' object has no attribute 'strip'\n",
            "Processed 210...\n",
            "Processed 220...\n",
            "Processed 230...\n",
            "Processed 240...\n",
            "Processed 250...\n",
            "Processed 260...\n",
            "Processed 270...\n",
            "Processed 280...\n",
            "Processed 290...\n",
            "Processed 300...\n",
            "Processed 310...\n",
            "Processed 320...\n",
            "Processed 330...\n",
            "Processed 340...\n",
            "Processed 350...\n",
            "Processed 360...\n",
            "Processed 370...\n",
            "Processed 380...\n",
            "Error: 'NoneType' object has no attribute 'strip'\n",
            "Processed 390...\n",
            "Processed 400...\n",
            "Processed 410...\n",
            "Processed 420...\n",
            "Processed 430...\n",
            "Processed 440...\n",
            "Processed 450...\n",
            "Processed 460...\n",
            "Processed 470...\n",
            "Processed 480...\n",
            "Processed 490...\n",
            "Processed 500...\n"
          ]
        }
      ],
      "source": [
        "main(\"gem.csv\", 0.42, 'gemini-2.5-pro-preview-05-06')"
      ]
    },
    {
      "cell_type": "code",
      "source": [
        "labels = ['Contradiction', 'Entailment', 'Unverifiable']\n",
        "#labels = ['Opposite meaning','Misrepresentation','Related but unverifiable','Entailment','Entity error','Unrelated and unverifiable','Numeric error','Missing information']\n",
        "df = pd.read_csv('/content/gem.csv')\n",
        "df = df.dropna()\n",
        "# Hàm xử lý từng dòng\n",
        "def extract_label(text):\n",
        "    found = [label for label in labels if label in text]\n",
        "    if len(found) == 1:\n",
        "        return found[0]\n",
        "    else:\n",
        "        return 'MULTI_OR_NONE'  # đánh dấu các mẫu không rõ ràng\n",
        "\n",
        "# Áp dụng hàm\n",
        "df['predict'] = df['predict'].apply(extract_label)\n",
        "df_ambiguous = df[df['predict'] == 'MULTI_OR_NONE']\n",
        "print(len(df_ambiguous) == 0)\n",
        "print(set(df['label']) == set(df['predict']))\n",
        "print(len(df))"
      ],
      "metadata": {
        "colab": {
          "base_uri": "https://localhost:8080/"
        },
        "id": "Lv0DW0_XXIRR",
        "outputId": "e969e4e7-770c-4d30-8421-ace3528c1a53"
      },
      "execution_count": null,
      "outputs": [
        {
          "output_type": "stream",
          "name": "stdout",
          "text": [
            "True\n",
            "True\n",
            "498\n"
          ]
        }
      ]
    },
    {
      "cell_type": "code",
      "execution_count": null,
      "metadata": {
        "colab": {
          "base_uri": "https://localhost:8080/"
        },
        "id": "cTTVhH9fNphQ",
        "outputId": "d2056d66-7236-4223-c014-cb180683ea4f"
      },
      "outputs": [
        {
          "output_type": "execute_result",
          "data": {
            "text/plain": [
              "array(['Contradiction', 'Entailment', 'Unverifiable'], dtype=object)"
            ]
          },
          "metadata": {},
          "execution_count": 25
        }
      ],
      "source": [
        "df = pd.read_csv('gem2_3.csv')\n",
        "df = df[df['predict'].isin(['Contradiction', 'Entailment', 'Unverifiable'])]\n",
        "df['predict'].unique()"
      ]
    },
    {
      "cell_type": "code",
      "source": [
        "df = pd.read_csv('gem.csv')\n",
        "df = df[df['predict'].isin(['Opposite meaning', 'Misrepresentation', 'Related but unverifiable', 'Entailment', 'Entity error', 'Unrelated and unverifiable', 'Numeric error', 'Missing information'])]\n",
        "df['predict'].unique()"
      ],
      "metadata": {
        "colab": {
          "base_uri": "https://localhost:8080/"
        },
        "id": "lwATCMF6opiV",
        "outputId": "138811c8-6a26-4b6d-d4a4-af4485d54d34"
      },
      "execution_count": null,
      "outputs": [
        {
          "output_type": "execute_result",
          "data": {
            "text/plain": [
              "array(['Misrepresentation', 'Related but unverifiable',\n",
              "       'Missing information', 'Unrelated and unverifiable',\n",
              "       'Opposite meaning', 'Entailment', 'Numeric error', 'Entity error'],\n",
              "      dtype=object)"
            ]
          },
          "metadata": {},
          "execution_count": 5
        }
      ]
    },
    {
      "cell_type": "code",
      "execution_count": null,
      "metadata": {
        "colab": {
          "base_uri": "https://localhost:8080/"
        },
        "id": "ORPJrKJlN2Ji",
        "outputId": "7c801f10-997a-4e78-836c-760a80ada264"
      },
      "outputs": [
        {
          "output_type": "stream",
          "name": "stdout",
          "text": [
            "Macro F1 Score: 0.541985000308047\n"
          ]
        }
      ],
      "source": [
        "macro_f1 = f1_score(df['label'], df['predict'], average='macro')\n",
        "print(\"Macro F1 Score:\", macro_f1)"
      ]
    },
    {
      "cell_type": "code",
      "execution_count": null,
      "metadata": {
        "colab": {
          "base_uri": "https://localhost:8080/",
          "height": 455
        },
        "id": "ZGOV9CeUN8l4",
        "outputId": "4b5c0df7-6d37-43b7-fd60-60b56e3fbc5f"
      },
      "outputs": [
        {
          "output_type": "stream",
          "name": "stdout",
          "text": [
            "Macro F1-score: 0.530458287707331\n"
          ]
        },
        {
          "output_type": "display_data",
          "data": {
            "text/plain": [
              "<Figure size 1200x600 with 1 Axes>"
            ],
            "image/png": "[encoded data removed]"
          },
          "metadata": {}
        }
      ],
      "source": [
        "mapping = {\n",
        "    'Entailment': 'Entailment',\n",
        "    'Related but unverifiable': 'Unverifiable',\n",
        "    'Unrelated and unverifiable': 'Unverifiable',\n",
        "    'Opposite meaning': 'Contradiction',\n",
        "    'Missing information': 'Contradiction',\n",
        "    'Entity error': 'Contradiction',\n",
        "    'Misrepresentation': 'Contradiction',\n",
        "    'Numeric error': 'Contradiction'\n",
        "}\n",
        "\n",
        "# Áp dụng mapping vào cột 'predict'\n",
        "df['predict'] = df['predict'].map(mapping)\n",
        "\n",
        "f1 = f1_score(df['label'], df['predict'], average='macro')\n",
        "print(\"Macro F1-score:\", f1)\n",
        "labels = sorted(df['label'].unique())  # đảm bảo sắp xếp để hiển thị gọn\n",
        "correct_counts = []\n",
        "incorrect_counts = []\n",
        "\n",
        "for label in labels:\n",
        "    # Số lần dự đoán đúng cho nhãn này\n",
        "    correct = ((df['label'] == label) & (df['predict'] == label)).sum()\n",
        "    # Số lần dự đoán sai mà thực tế là nhãn này hoặc dự đoán thành nhãn này\n",
        "    incorrect = ((df['label'] == label) & (df['predict'] != label)).sum() + \\\n",
        "                ((df['label'] != label) & (df['predict'] == label)).sum()\n",
        "\n",
        "    correct_counts.append(correct)\n",
        "    incorrect_counts.append(incorrect)\n",
        "\n",
        "x = np.arange(len(labels))  # vị trí của nhãn\n",
        "width = 0.35\n",
        "\n",
        "fig, ax = plt.subplots(figsize=(12, 6))\n",
        "bars1 = ax.bar(x - width/2, correct_counts, width, label='Đúng', color='blue')\n",
        "bars2 = ax.bar(x + width/2, incorrect_counts, width, label='Sai', color='red')\n",
        "\n",
        "ax.set_xlabel('Nhãn')\n",
        "ax.set_ylabel('Số mẫu')\n",
        "ax.set_title(f'Dự đoán đúng/sai theo nhãn (F1 macro = {f1:.2f})')\n",
        "ax.set_xticks(x)\n",
        "ax.set_xticklabels(labels)\n",
        "ax.tick_params(axis='x', labelrotation=45)\n",
        "ax.legend()\n",
        "\n",
        "# 🔢 Ghi số lên cột\n",
        "for bar in bars1:\n",
        "    height = bar.get_height()\n",
        "    ax.annotate(f'{height}',\n",
        "                xy=(bar.get_x() + bar.get_width() / 2, height),\n",
        "                xytext=(0, 3),  # khoảng cách so với đầu cột\n",
        "                textcoords=\"offset points\",\n",
        "                ha='center', va='bottom', fontsize=9)\n",
        "\n",
        "for bar in bars2:\n",
        "    height = bar.get_height()\n",
        "    ax.annotate(f'{height}',\n",
        "                xy=(bar.get_x() + bar.get_width() / 2, height),\n",
        "                xytext=(0, 3),\n",
        "                textcoords=\"offset points\",\n",
        "                ha='center', va='bottom', fontsize=9)\n",
        "\n",
        "plt.tight_layout()\n",
        "plt.savefig(\"ten_file.png\")\n",
        "plt.show()"
      ]
    }
  ],
  "metadata": {
    "colab": {
      "provenance": []
    },
    "kernelspec": {
      "display_name": "Python 3",
      "name": "python3"
    },
    "language_info": {
      "name": "python"
    }
  },
  "nbformat": 4,
  "nbformat_minor": 0
}
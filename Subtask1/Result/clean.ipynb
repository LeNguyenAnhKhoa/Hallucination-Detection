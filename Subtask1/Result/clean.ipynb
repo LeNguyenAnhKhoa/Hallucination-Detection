{
 "cells": [
  {
   "cell_type": "code",
   "execution_count": 1,
   "id": "282c3ae5",
   "metadata": {},
   "outputs": [],
   "source": [
    "import pandas as pd\n",
    "import re\n",
    "import json\n",
    "import numpy as np\n",
    "import matplotlib.pyplot as plt\n",
    "from sklearn.metrics import f1_score\n",
    "pd.set_option('display.max_colwidth', None)\n",
    "df = pd.read_csv('gemini-2.5-flash-preview-05-20.csv')"
   ]
  },
  {
   "cell_type": "code",
   "execution_count": 4,
   "id": "bfd93f15",
   "metadata": {},
   "outputs": [],
   "source": [
    "df1 = pd.read_csv('o3-mini_1.csv')\n",
    "df2 = pd.read_csv('o3-mini_4.csv')\n",
    "df = pd.concat([df1, df2], ignore_index=True)"
   ]
  },
  {
   "cell_type": "code",
   "execution_count": 5,
   "id": "26cc9e10",
   "metadata": {},
   "outputs": [
    {
     "name": "stdout",
     "output_type": "stream",
     "text": [
      "True\n",
      "True\n",
      "1198\n"
     ]
    }
   ],
   "source": [
    "labels = ['Contradiction', 'Entailment', 'Unverifiable']\n",
    "#labels = ['Opposite meaning','Misrepresentation','Related but unverifiable','Entailment','Entity error','Unrelated and unverifiable','Numeric error','Missing information']\n",
    "df = df.dropna()\n",
    "# Hàm xử lý từng dòng\n",
    "def extract_label(text):\n",
    "    found = [label for label in labels if label in text]\n",
    "    if len(found) == 1:\n",
    "        return found[0]\n",
    "    else:\n",
    "        return 'MULTI_OR_NONE'  # đánh dấu các mẫu không rõ ràng\n",
    "\n",
    "# Áp dụng hàm\n",
    "df['predict'] = df['predict'].apply(extract_label)\n",
    "df_ambiguous = df[df['predict'] == 'MULTI_OR_NONE']\n",
    "df = df[df['predict'] != 'MULTI_OR_NONE']\n",
    "print(len(df_ambiguous) == 0)\n",
    "print(set(df['label']) == set(df['predict']))\n",
    "print(len(df))"
   ]
  },
  {
   "cell_type": "code",
   "execution_count": 6,
   "id": "c224fc0b",
   "metadata": {},
   "outputs": [
    {
     "name": "stdout",
     "output_type": "stream",
     "text": [
      "Macro F1 Score: 0.728947320918066\n"
     ]
    }
   ],
   "source": [
    "macro_f1 = f1_score(df['label'], df['predict'], average='weighted')\n",
    "print(\"Macro F1 Score:\", macro_f1)"
   ]
  }
 ],
 "metadata": {
  "kernelspec": {
   "display_name": "Python 3",
   "language": "python",
   "name": "python3"
  },
  "language_info": {
   "codemirror_mode": {
    "name": "ipython",
    "version": 3
   },
   "file_extension": ".py",
   "mimetype": "text/x-python",
   "name": "python",
   "nbconvert_exporter": "python",
   "pygments_lexer": "ipython3",
   "version": "3.13.2"
  }
 },
 "nbformat": 4,
 "nbformat_minor": 5
}
